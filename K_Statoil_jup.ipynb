{
 "cells": [
  {
   "cell_type": "code",
   "execution_count": 5,
   "metadata": {
    "collapsed": true
   },
   "outputs": [],
   "source": [
    "import numpy as np\n",
    "import pandas as pd\n",
    "import random\n",
    "from sklearn.model_selection import train_test_split\n",
    "import keras\n",
    "import matplotlib.pyplot as plt\n",
    "from keras.models import Sequential\n",
    "from keras.layers import Dense, Dropout, Flatten\n",
    "from keras.layers import Conv2D, MaxPooling2D\n",
    "from keras.callbacks import EarlyStopping, ModelCheckpoint, ReduceLROnPlateau\n",
    "from keras.layers.normalization import BatchNormalization\n",
    "from keras import backend as K\n",
    "from keras.optimizers import Adam"
   ]
  },
  {
   "cell_type": "code",
   "execution_count": 10,
   "metadata": {},
   "outputs": [],
   "source": [
    "\n",
    "def rotndup_img (img):\n",
    "    img90 = np.array(list(zip(*img[::-1])))\n",
    "    img180 = np.array(list(zip(*img90[::-1])))\n",
    "    img270 = np.array(list(zip(*img180[::-1])))\n",
    "    return [img, img90, img180, img270]\n",
    "\n",
    "\n",
    "def deep_clean (bd1):\n",
    "    # begins as a regular cleaning of noise anything below mean + 1 std will zero\n",
    "    bd1 = np.array(bd1)\n",
    "    mn, mx = bd1.min(), bd1.max()\n",
    "    bd1 = (bd1 - mn) / (mx - mn)\n",
    "    bd1[bd1 < (bd1.mean() + bd1.std() * 1)] = 0\n",
    "    bd1 = bd1.reshape(75, 75)\n",
    "\n",
    "    # defining an array to hold \"remember\" our object pattern\n",
    "    part_of = np.zeros((75, 75))\n",
    "\n",
    "    # we are searching waterfall style only upside down, and so we extract the peaks and work our way down\n",
    "    # until we reach the previous pixel marked as 0. this will define the major structurs in the image.\n",
    "    # All the rest is squashed.\n",
    "    top95 = np.percentile(bd1, 99.5)\n",
    "    row, col = np.where(bd1 > top95)\n",
    "\n",
    "    lst = [[-1, 1], [0, 1], [1, 1], [-1, 0], [1, 0], [-1, -1], [0, -1], [-1, -1]]\n",
    "\n",
    "    for i in range(len(row)):\n",
    "        x = row[i]\n",
    "        y = col[i]\n",
    "        cell2chk = [[x, y]]\n",
    "        j = 0\n",
    "        macktub = True\n",
    "        while macktub:\n",
    "            x, y = cell2chk[j]\n",
    "            part_of[x, y] = 1\n",
    "            for sx, sy in lst:\n",
    "                if (x+sx) < 75 and (y+sy) < 75 and (x+sx) >= 0 and (y+sy) >= 0:\n",
    "                    if bd1[x + sx, y + sy] != 0 and part_of[x + sx, y + sy] == 0:\n",
    "                        part_of[x + sx, y + sy] = 1\n",
    "                        cell2chk.append([x + sx, y + sy])\n",
    "                    elif bd1[x + sx, y + sy] == 0:\n",
    "                        part_of[x + sx, y + sy] = -1\n",
    "            j += 1\n",
    "            if j + 1 >= len(cell2chk):\n",
    "                macktub = False\n",
    "\n",
    "    bd1[part_of == 0] = 0\n",
    "    return bd1\n",
    "\n",
    "\n",
    "def getModel():\n",
    "    # Build keras model\n",
    "\n",
    "    model = Sequential()\n",
    "\n",
    "    # CNN 1\n",
    "    model.add(Conv2D(64, kernel_size=(3, 3), activation='relu', input_shape=input_shape))\n",
    "    model.add(MaxPooling2D(pool_size=(3, 3), strides=(2, 2)))\n",
    "    model.add(Dropout(0.2))\n",
    "\n",
    "    # CNN 2\n",
    "    model.add(Conv2D(128, kernel_size=(3, 3), activation='relu'))\n",
    "    model.add(MaxPooling2D(pool_size=(2, 2), strides=(1, 1)))\n",
    "    model.add(Dropout(0.2))\n",
    "\n",
    "    # CNN 3\n",
    "    model.add(Conv2D(128, kernel_size=(3, 3), activation='relu'))\n",
    "    model.add(MaxPooling2D(pool_size=(2, 2), strides=(1, 1)))\n",
    "    model.add(Dropout(0.2))\n",
    "\n",
    "    # CNN 4\n",
    "    model.add(Conv2D(64, kernel_size=(3, 3), activation='relu'))\n",
    "    model.add(MaxPooling2D(pool_size=(2, 2), strides=(2, 2)))\n",
    "    model.add(Dropout(0.2))\n",
    "\n",
    "    # You must flatten the data for the dense layers\n",
    "    model.add(Flatten())\n",
    "\n",
    "    # Dense 1\n",
    "    model.add(Dense(512, activation='relu'))\n",
    "    model.add(Dropout(0.2))\n",
    "\n",
    "    # Dense 2\n",
    "    model.add(Dense(256, activation='relu'))\n",
    "    model.add(Dropout(0.2))\n",
    "\n",
    "    # Output\n",
    "    model.add(Dense(1, activation=\"sigmoid\"))\n",
    "\n",
    "    optimizer = Adam(lr= 0.001, beta_1=0.9, beta_2=0.999, epsilon=1e-08, decay=0.0)\n",
    " #   optimizer = keras.optimizers.SGD(lr=0.01, momentum=0.01, decay=0.0, nesterov=True)\n",
    "    model.compile(loss='binary_crossentropy', optimizer=optimizer, metrics=['accuracy'])\n",
    "\n",
    "    return model"
   ]
  },
  {
   "cell_type": "code",
   "execution_count": 7,
   "metadata": {},
   "outputs": [
    {
     "name": "stdout",
     "output_type": "stream",
     "text": [
      "train has been read\n"
     ]
    }
   ],
   "source": [
    "\n",
    "# load the training data\n",
    "train = pd.read_json('/Users/ohad/Google_Drive/DS_projects/K_Statoil/Train/train.json')\n",
    "train['inc_angle'] = pd.to_numeric(train['inc_angle'], errors='coerce')\n",
    "\n",
    "# option1 fill the images with nan for inc_angle with mean of angles\n",
    "#train['inc_angle'] = train['inc_angle'].fillna(train['inc_angle'].mean())\n",
    "\n",
    "# option2 drop images with nan\n",
    "train = train.dropna(axis=0, how='any')\n",
    "\n",
    "print('train has been read')\n"
   ]
  },
  {
   "cell_type": "code",
   "execution_count": 11,
   "metadata": {
    "collapsed": true
   },
   "outputs": [
    {
     "name": "stdout",
     "output_type": "stream",
     "text": [
      "creating more test cases\n0\n1\n2\n3\n4\n5\n6\n7\n8\n"
     ]
    },
    {
     "name": "stdout",
     "output_type": "stream",
     "text": [
      "9\n10\n11\n12\n13\n14\n"
     ]
    },
    {
     "name": "stdout",
     "output_type": "stream",
     "text": [
      "15\n16\n17\n18\n19\n20\n"
     ]
    },
    {
     "name": "stdout",
     "output_type": "stream",
     "text": [
      "21\n22\n23\n24\n"
     ]
    },
    {
     "name": "stdout",
     "output_type": "stream",
     "text": [
      "25\n26\n27\n28\n"
     ]
    },
    {
     "name": "stdout",
     "output_type": "stream",
     "text": [
      "29\n30\n31\n32\n33\n34\n35\n36\n37\n"
     ]
    },
    {
     "name": "stdout",
     "output_type": "stream",
     "text": [
      "38\n39\n40\n41\n42\n43\n"
     ]
    },
    {
     "name": "stdout",
     "output_type": "stream",
     "text": [
      "44\n45\n46\n47\n48\n49\n"
     ]
    },
    {
     "name": "stdout",
     "output_type": "stream",
     "text": [
      "50\n51\n52\n53\n54\n55\n56\n57\n"
     ]
    },
    {
     "name": "stdout",
     "output_type": "stream",
     "text": [
      "58\n59\n60\n61\n62\n63\n64\n"
     ]
    },
    {
     "name": "stdout",
     "output_type": "stream",
     "text": [
      "65\n66\n67\n68\n69\n70\n71\n72\n"
     ]
    },
    {
     "name": "stdout",
     "output_type": "stream",
     "text": [
      "73\n74\n75\n76\n77\n78\n79\n80\n81\n"
     ]
    },
    {
     "name": "stdout",
     "output_type": "stream",
     "text": [
      "82\n83\n84\n85\n86\n87\n88\n89\n"
     ]
    },
    {
     "name": "stdout",
     "output_type": "stream",
     "text": [
      "90\n91\n92\n93\n94\n95\n96\n97\n"
     ]
    },
    {
     "name": "stdout",
     "output_type": "stream",
     "text": [
      "98\n99\n100\n102\n103\n104\n105\n106\n"
     ]
    },
    {
     "name": "stdout",
     "output_type": "stream",
     "text": [
      "107\n108\n109\n110\n111\n112\n113\n"
     ]
    },
    {
     "name": "stdout",
     "output_type": "stream",
     "text": [
      "114\n115\n116\n117\n118\n119\n120\n121\n122\n123\n"
     ]
    },
    {
     "name": "stdout",
     "output_type": "stream",
     "text": [
      "124\n125\n127\n128\n129\n130\n131\n132\n133\n"
     ]
    },
    {
     "name": "stdout",
     "output_type": "stream",
     "text": [
      "134\n135\n136\n137\n138\n139\n140\n141\n143\n"
     ]
    },
    {
     "name": "stdout",
     "output_type": "stream",
     "text": [
      "144\n146\n147\n148\n149\n150\n151\n152\n"
     ]
    },
    {
     "name": "stdout",
     "output_type": "stream",
     "text": [
      "153\n154\n155\n156\n157\n158\n159\n160\n"
     ]
    },
    {
     "name": "stdout",
     "output_type": "stream",
     "text": [
      "161\n162\n163\n164\n165\n166\n167\n168\n169\n"
     ]
    },
    {
     "name": "stdout",
     "output_type": "stream",
     "text": [
      "170\n171\n172\n173\n174\n175\n177\n"
     ]
    },
    {
     "name": "stdout",
     "output_type": "stream",
     "text": [
      "178\n180\n181\n182\n183\n184\n185\n186\n"
     ]
    },
    {
     "name": "stdout",
     "output_type": "stream",
     "text": [
      "187\n188\n189\n190\n192\n193\n194\n195\n196\n"
     ]
    },
    {
     "name": "stdout",
     "output_type": "stream",
     "text": [
      "197\n198\n199\n200\n201\n202\n"
     ]
    },
    {
     "name": "stdout",
     "output_type": "stream",
     "text": [
      "203\n204\n"
     ]
    },
    {
     "name": "stdout",
     "output_type": "stream",
     "text": [
      "205\n206\n"
     ]
    },
    {
     "name": "stdout",
     "output_type": "stream",
     "text": [
      "207\n208\n209\n"
     ]
    },
    {
     "name": "stdout",
     "output_type": "stream",
     "text": [
      "210\n211\n212\n"
     ]
    },
    {
     "name": "stdout",
     "output_type": "stream",
     "text": [
      "213\n214\n215\n216\n217\n"
     ]
    },
    {
     "name": "stdout",
     "output_type": "stream",
     "text": [
      "218\n219\n220\n"
     ]
    },
    {
     "name": "stdout",
     "output_type": "stream",
     "text": [
      "221\n222\n223\n224\n225\n226\n227\n"
     ]
    },
    {
     "name": "stdout",
     "output_type": "stream",
     "text": [
      "228\n229\n230\n231\n232\n233\n234\n235\n"
     ]
    },
    {
     "name": "stdout",
     "output_type": "stream",
     "text": [
      "236\n237\n238\n239\n240\n241\n242\n"
     ]
    },
    {
     "name": "stdout",
     "output_type": "stream",
     "text": [
      "243\n244\n245\n246\n247\n248\n249\n250\n251\n"
     ]
    },
    {
     "name": "stdout",
     "output_type": "stream",
     "text": [
      "252\n253\n254\n255\n256\n257\n258\n"
     ]
    },
    {
     "name": "stdout",
     "output_type": "stream",
     "text": [
      "259\n260\n261\n262\n263\n264\n265\n"
     ]
    },
    {
     "name": "stdout",
     "output_type": "stream",
     "text": [
      "266\n267\n268\n269\n270\n271\n272\n273\n274\n"
     ]
    },
    {
     "name": "stdout",
     "output_type": "stream",
     "text": [
      "275\n276\n277\n279\n280\n281\n282\n283\n284\n"
     ]
    },
    {
     "name": "stdout",
     "output_type": "stream",
     "text": [
      "285\n287\n288\n289\n290\n291\n292\n293\n"
     ]
    },
    {
     "name": "stdout",
     "output_type": "stream",
     "text": [
      "294\n295\n296\n297\n298\n299\n300\n301\n"
     ]
    },
    {
     "name": "stdout",
     "output_type": "stream",
     "text": [
      "302\n303\n304\n305\n306\n"
     ]
    },
    {
     "name": "stdout",
     "output_type": "stream",
     "text": [
      "307\n308\n309\n310\n311\n312\n"
     ]
    },
    {
     "name": "stdout",
     "output_type": "stream",
     "text": [
      "313\n314\n315\n316\n317\n"
     ]
    },
    {
     "name": "stdout",
     "output_type": "stream",
     "text": [
      "318\n319\n320\n321\n322\n323\n324\n"
     ]
    },
    {
     "name": "stdout",
     "output_type": "stream",
     "text": [
      "325\n326\n327\n328\n329\n330\n"
     ]
    },
    {
     "name": "stdout",
     "output_type": "stream",
     "text": [
      "331\n332\n333\n334\n335\n336\n"
     ]
    },
    {
     "name": "stdout",
     "output_type": "stream",
     "text": [
      "337\n338\n339\n340\n341\n343\n344\n"
     ]
    },
    {
     "name": "stdout",
     "output_type": "stream",
     "text": [
      "345\n346\n347\n348\n349\n350\n351\n"
     ]
    },
    {
     "name": "stdout",
     "output_type": "stream",
     "text": [
      "352\n353\n354\n355\n356\n357\n358\n"
     ]
    },
    {
     "name": "stdout",
     "output_type": "stream",
     "text": [
      "359\n360\n361\n362\n363\n"
     ]
    },
    {
     "name": "stdout",
     "output_type": "stream",
     "text": [
      "364\n365\n366\n367\n368\n369\n370\n371\n372\n"
     ]
    },
    {
     "name": "stdout",
     "output_type": "stream",
     "text": [
      "373\n374\n375\n376\n"
     ]
    },
    {
     "name": "stdout",
     "output_type": "stream",
     "text": [
      "377\n378\n379\n380\n381\n"
     ]
    },
    {
     "name": "stdout",
     "output_type": "stream",
     "text": [
      "382\n383\n384\n385\n"
     ]
    },
    {
     "name": "stdout",
     "output_type": "stream",
     "text": [
      "386\n387\n388\n389\n390\n"
     ]
    },
    {
     "name": "stdout",
     "output_type": "stream",
     "text": [
      "391\n392\n393\n394\n395\n396\n"
     ]
    },
    {
     "name": "stdout",
     "output_type": "stream",
     "text": [
      "397\n398\n399\n400\n401\n402\n"
     ]
    },
    {
     "name": "stdout",
     "output_type": "stream",
     "text": [
      "403\n404\n405\n406\n"
     ]
    },
    {
     "name": "stdout",
     "output_type": "stream",
     "text": [
      "407\n408\n409\n410\n411\n413\n414\n415\n"
     ]
    },
    {
     "name": "stdout",
     "output_type": "stream",
     "text": [
      "416\n417\n418\n419\n"
     ]
    },
    {
     "name": "stdout",
     "output_type": "stream",
     "text": [
      "420\n421\n422\n423\n"
     ]
    },
    {
     "name": "stdout",
     "output_type": "stream",
     "text": [
      "424\n425\n426\n427\n"
     ]
    },
    {
     "name": "stdout",
     "output_type": "stream",
     "text": [
      "428\n429\n430\n432\n433\n434\n435\n"
     ]
    },
    {
     "name": "stdout",
     "output_type": "stream",
     "text": [
      "436\n437\n438\n439\n441\n442\n443\n"
     ]
    },
    {
     "name": "stdout",
     "output_type": "stream",
     "text": [
      "444\n445\n446\n447\n448\n"
     ]
    },
    {
     "name": "stdout",
     "output_type": "stream",
     "text": [
      "449\n450\n451\n452\n"
     ]
    },
    {
     "name": "stdout",
     "output_type": "stream",
     "text": [
      "453\n454\n455\n456\n457\n458\n"
     ]
    },
    {
     "name": "stdout",
     "output_type": "stream",
     "text": [
      "459\n460\n461\n462\n463\n"
     ]
    },
    {
     "name": "stdout",
     "output_type": "stream",
     "text": [
      "464\n465\n466\n467\n"
     ]
    },
    {
     "name": "stdout",
     "output_type": "stream",
     "text": [
      "468\n469\n470\n471\n"
     ]
    },
    {
     "name": "stdout",
     "output_type": "stream",
     "text": [
      "472\n473\n474\n"
     ]
    },
    {
     "name": "stdout",
     "output_type": "stream",
     "text": [
      "475\n476\n477\n478\n479\n"
     ]
    },
    {
     "name": "stdout",
     "output_type": "stream",
     "text": [
      "480\n481\n482\n483\n484\n485\n"
     ]
    },
    {
     "name": "stdout",
     "output_type": "stream",
     "text": [
      "486\n487\n488\n489\n490\n491\n492\n"
     ]
    },
    {
     "name": "stdout",
     "output_type": "stream",
     "text": [
      "494\n495\n496\n497\n498\n"
     ]
    },
    {
     "name": "stdout",
     "output_type": "stream",
     "text": [
      "499\n500\n501\n502\n503\n504\n505\n"
     ]
    },
    {
     "name": "stdout",
     "output_type": "stream",
     "text": [
      "506\n507\n508\n509\n510\n511\n512\n513\n"
     ]
    },
    {
     "name": "stdout",
     "output_type": "stream",
     "text": [
      "514\n515\n516\n517\n518\n519\n520\n"
     ]
    },
    {
     "name": "stdout",
     "output_type": "stream",
     "text": [
      "521\n522\n523\n524\n525\n526\n527\n"
     ]
    },
    {
     "name": "stdout",
     "output_type": "stream",
     "text": [
      "528\n529\n530\n531\n532\n533\n534\n535\n536\n"
     ]
    },
    {
     "name": "stdout",
     "output_type": "stream",
     "text": [
      "537\n538\n539\n540\n"
     ]
    },
    {
     "name": "stdout",
     "output_type": "stream",
     "text": [
      "541\n542\n543\n544\n545\n546\n547\n"
     ]
    },
    {
     "name": "stdout",
     "output_type": "stream",
     "text": [
      "548\n549\n550\n551\n552\n553\n554\n555\n"
     ]
    },
    {
     "name": "stdout",
     "output_type": "stream",
     "text": [
      "556\n557\n558\n559\n560\n561\n562\n563\n564\n"
     ]
    },
    {
     "name": "stdout",
     "output_type": "stream",
     "text": [
      "565\n566\n567\n568\n569\n570\n571\n572\n"
     ]
    },
    {
     "name": "stdout",
     "output_type": "stream",
     "text": [
      "573\n574\n575\n576\n577\n578\n"
     ]
    },
    {
     "name": "stdout",
     "output_type": "stream",
     "text": [
      "579\n580\n581\n582\n583\n584\n585\n"
     ]
    },
    {
     "name": "stdout",
     "output_type": "stream",
     "text": [
      "586\n587\n588\n589\n590\n591\n592\n"
     ]
    },
    {
     "name": "stdout",
     "output_type": "stream",
     "text": [
      "593\n594\n595\n596\n597\n"
     ]
    },
    {
     "name": "stdout",
     "output_type": "stream",
     "text": [
      "598\n599\n600\n601\n602\n603\n"
     ]
    },
    {
     "name": "stdout",
     "output_type": "stream",
     "text": [
      "604\n605\n606\n607\n608\n609\n610\n611\n612\n"
     ]
    },
    {
     "name": "stdout",
     "output_type": "stream",
     "text": [
      "613\n614\n615\n616\n617\n618\n619\n620\n"
     ]
    },
    {
     "name": "stdout",
     "output_type": "stream",
     "text": [
      "621\n622\n623\n624\n625\n626\n627\n628\n629\n"
     ]
    },
    {
     "name": "stdout",
     "output_type": "stream",
     "text": [
      "630\n631\n632\n633\n634\n635\n636\n637\n"
     ]
    },
    {
     "name": "stdout",
     "output_type": "stream",
     "text": [
      "638\n639\n640\n641\n643\n644\n645\n646\n"
     ]
    },
    {
     "name": "stdout",
     "output_type": "stream",
     "text": [
      "647\n648\n649\n650\n651\n652\n653\n"
     ]
    },
    {
     "name": "stdout",
     "output_type": "stream",
     "text": [
      "654\n655\n656\n657\n658\n659\n660\n"
     ]
    },
    {
     "name": "stdout",
     "output_type": "stream",
     "text": [
      "661\n662\n663\n664\n665\n668\n"
     ]
    },
    {
     "name": "stdout",
     "output_type": "stream",
     "text": [
      "669\n670\n671\n672\n673\n674\n675\n676\n677\n"
     ]
    },
    {
     "name": "stdout",
     "output_type": "stream",
     "text": [
      "678\n679\n680\n681\n682\n683\n684\n"
     ]
    },
    {
     "name": "stdout",
     "output_type": "stream",
     "text": [
      "685\n686\n687\n688\n689\n690\n691\n692\n"
     ]
    },
    {
     "name": "stdout",
     "output_type": "stream",
     "text": [
      "693\n694\n695\n696\n697\n698\n"
     ]
    },
    {
     "name": "stdout",
     "output_type": "stream",
     "text": [
      "699\n700\n701\n702\n703\n704\n705\n706\n"
     ]
    },
    {
     "name": "stdout",
     "output_type": "stream",
     "text": [
      "707\n708\n709\n710\n711\n712\n713\n"
     ]
    },
    {
     "name": "stdout",
     "output_type": "stream",
     "text": [
      "714\n715\n716\n717\n718\n719\n720\n721\n722\n"
     ]
    },
    {
     "name": "stdout",
     "output_type": "stream",
     "text": [
      "723\n724\n725\n726\n727\n728\n729\n731\n"
     ]
    },
    {
     "name": "stdout",
     "output_type": "stream",
     "text": [
      "732\n733\n734\n735\n736\n737\n738\n739\n"
     ]
    },
    {
     "name": "stdout",
     "output_type": "stream",
     "text": [
      "740\n743\n744\n745\n746\n747\n748\n"
     ]
    },
    {
     "name": "stdout",
     "output_type": "stream",
     "text": [
      "749\n750\n751\n752\n753\n754\n"
     ]
    },
    {
     "name": "stdout",
     "output_type": "stream",
     "text": [
      "755\n756\n757\n758\n759\n760\n761\n"
     ]
    },
    {
     "name": "stdout",
     "output_type": "stream",
     "text": [
      "762\n764\n765\n766\n767\n768\n769\n770\n"
     ]
    },
    {
     "name": "stdout",
     "output_type": "stream",
     "text": [
      "771\n772\n773\n774\n775\n776\n777\n778\n"
     ]
    },
    {
     "name": "stdout",
     "output_type": "stream",
     "text": [
      "779\n780\n781\n782\n783\n784\n785\n786\n787\n"
     ]
    },
    {
     "name": "stdout",
     "output_type": "stream",
     "text": [
      "788\n789\n790\n791\n792\n793\n794\n795\n"
     ]
    },
    {
     "name": "stdout",
     "output_type": "stream",
     "text": [
      "796\n797\n798\n799\n"
     ]
    },
    {
     "name": "stdout",
     "output_type": "stream",
     "text": [
      "800\n801\n802\n803\n804\n805\n806\n807\n"
     ]
    },
    {
     "name": "stdout",
     "output_type": "stream",
     "text": [
      "808\n809\n810\n811\n812\n813\n"
     ]
    },
    {
     "name": "stdout",
     "output_type": "stream",
     "text": [
      "814\n815\n816\n817\n818\n"
     ]
    },
    {
     "name": "stdout",
     "output_type": "stream",
     "text": [
      "819\n820\n821\n823\n"
     ]
    },
    {
     "name": "stdout",
     "output_type": "stream",
     "text": [
      "824\n825\n826\n"
     ]
    },
    {
     "name": "stdout",
     "output_type": "stream",
     "text": [
      "827\n828\n829\n830\n"
     ]
    },
    {
     "name": "stdout",
     "output_type": "stream",
     "text": [
      "831\n832\n"
     ]
    },
    {
     "name": "stdout",
     "output_type": "stream",
     "text": [
      "833\n834\n835\n836\n"
     ]
    },
    {
     "name": "stdout",
     "output_type": "stream",
     "text": [
      "837\n838\n839\n840\n841\n"
     ]
    },
    {
     "name": "stdout",
     "output_type": "stream",
     "text": [
      "842\n843\n844\n845\n846\n"
     ]
    },
    {
     "name": "stdout",
     "output_type": "stream",
     "text": [
      "847\n848\n849\n850\n851\n852\n"
     ]
    },
    {
     "name": "stdout",
     "output_type": "stream",
     "text": [
      "853\n854\n855\n856\n857\n858\n859\n"
     ]
    },
    {
     "name": "stdout",
     "output_type": "stream",
     "text": [
      "860\n861\n862\n864\n865\n"
     ]
    },
    {
     "name": "stdout",
     "output_type": "stream",
     "text": [
      "866\n867\n869\n870\n871\n872\n"
     ]
    },
    {
     "name": "stdout",
     "output_type": "stream",
     "text": [
      "873\n874\n875\n876\n877\n878\n879\n880\n"
     ]
    },
    {
     "name": "stdout",
     "output_type": "stream",
     "text": [
      "881\n882\n883\n884\n885\n886\n887\n"
     ]
    },
    {
     "name": "stdout",
     "output_type": "stream",
     "text": [
      "888\n889\n890\n891\n892\n893\n"
     ]
    },
    {
     "name": "stdout",
     "output_type": "stream",
     "text": [
      "894\n895\n896\n897\n898\n"
     ]
    },
    {
     "name": "stdout",
     "output_type": "stream",
     "text": [
      "899\n900\n901\n902\n903\n904\n905\n907\n"
     ]
    },
    {
     "name": "stdout",
     "output_type": "stream",
     "text": [
      "908\n909\n910\n911\n912\n913\n914\n"
     ]
    },
    {
     "name": "stdout",
     "output_type": "stream",
     "text": [
      "915\n917\n918\n919\n920\n921\n922\n"
     ]
    },
    {
     "name": "stdout",
     "output_type": "stream",
     "text": [
      "923\n924\n925\n926\n927\n928\n929\n"
     ]
    },
    {
     "name": "stdout",
     "output_type": "stream",
     "text": [
      "930\n931\n932\n933\n934\n935\n"
     ]
    },
    {
     "name": "stdout",
     "output_type": "stream",
     "text": [
      "936\n937\n938\n939\n940\n941\n942\n"
     ]
    },
    {
     "name": "stdout",
     "output_type": "stream",
     "text": [
      "943\n944\n945\n946\n947\n948\n949\n950\n"
     ]
    },
    {
     "name": "stdout",
     "output_type": "stream",
     "text": [
      "951\n952\n953\n954\n955\n"
     ]
    },
    {
     "name": "stdout",
     "output_type": "stream",
     "text": [
      "956\n957\n958\n959\n960\n961\n"
     ]
    },
    {
     "name": "stdout",
     "output_type": "stream",
     "text": [
      "962\n963\n964\n965\n966\n967\n968\n"
     ]
    },
    {
     "name": "stdout",
     "output_type": "stream",
     "text": [
      "969\n970\n971\n972\n973\n974\n975\n"
     ]
    },
    {
     "name": "stdout",
     "output_type": "stream",
     "text": [
      "976\n977\n978\n979\n980\n981\n982\n"
     ]
    },
    {
     "name": "stdout",
     "output_type": "stream",
     "text": [
      "983\n984\n985\n986\n987\n988\n989\n990\n"
     ]
    },
    {
     "name": "stdout",
     "output_type": "stream",
     "text": [
      "991\n992\n993\n994\n995\n997\n"
     ]
    },
    {
     "name": "stdout",
     "output_type": "stream",
     "text": [
      "998\n999\n1000\n1001\n1002\n1003\n1004\n"
     ]
    },
    {
     "name": "stdout",
     "output_type": "stream",
     "text": [
      "1005\n1006\n1007\n1008\n1009\n1010\n1011\n"
     ]
    },
    {
     "name": "stdout",
     "output_type": "stream",
     "text": [
      "1012\n1013\n1014\n1015\n1016\n1017\n1018\n1019\n"
     ]
    },
    {
     "name": "stdout",
     "output_type": "stream",
     "text": [
      "1020\n1021\n1022\n1023\n1024\n1025\n1026\n1027\n"
     ]
    },
    {
     "name": "stdout",
     "output_type": "stream",
     "text": [
      "1028\n1029\n1030\n1031\n1032\n1033\n"
     ]
    },
    {
     "name": "stdout",
     "output_type": "stream",
     "text": [
      "1034\n1035\n1036\n1037\n1038\n1039\n1040\n1042\n"
     ]
    },
    {
     "name": "stdout",
     "output_type": "stream",
     "text": [
      "1043\n1044\n1045\n1046\n1047\n"
     ]
    },
    {
     "name": "stdout",
     "output_type": "stream",
     "text": [
      "1048\n1049\n1050\n1051\n1052\n1053\n1054\n"
     ]
    },
    {
     "name": "stdout",
     "output_type": "stream",
     "text": [
      "1055\n1056\n1057\n1058\n1059\n1060\n1061\n"
     ]
    },
    {
     "name": "stdout",
     "output_type": "stream",
     "text": [
      "1062\n1063\n1064\n1066\n1067\n1068\n1069\n1070\n"
     ]
    },
    {
     "name": "stdout",
     "output_type": "stream",
     "text": [
      "1071\n1072\n1073\n1074\n1075\n1076\n1077\n1078\n1079\n"
     ]
    },
    {
     "name": "stdout",
     "output_type": "stream",
     "text": [
      "1080\n1081\n1082\n1083\n1084\n1085\n"
     ]
    },
    {
     "name": "stdout",
     "output_type": "stream",
     "text": [
      "1086\n1087\n1088\n1089\n1090\n1091\n1092\n1093\n"
     ]
    },
    {
     "name": "stdout",
     "output_type": "stream",
     "text": [
      "1094\n1096\n1097\n1098\n1099\n1100\n1101\n1102\n1103\n"
     ]
    },
    {
     "name": "stdout",
     "output_type": "stream",
     "text": [
      "1104\n1105\n1106\n1107\n1108\n1109\n1110\n1111\n"
     ]
    },
    {
     "name": "stdout",
     "output_type": "stream",
     "text": [
      "1112\n1113\n1114\n1115\n1116\n1117\n1118\n"
     ]
    },
    {
     "name": "stdout",
     "output_type": "stream",
     "text": [
      "1119\n1120\n1121\n1122\n1123\n1124\n"
     ]
    },
    {
     "name": "stdout",
     "output_type": "stream",
     "text": [
      "1125\n1126\n1127\n1128\n1129\n1130\n"
     ]
    },
    {
     "name": "stdout",
     "output_type": "stream",
     "text": [
      "1131\n1132\n1133\n1134\n1135\n1136\n1137\n1138\n"
     ]
    },
    {
     "name": "stdout",
     "output_type": "stream",
     "text": [
      "1139\n1140\n1141\n1142\n1143\n1144\n1145\n1146\n"
     ]
    },
    {
     "name": "stdout",
     "output_type": "stream",
     "text": [
      "1147\n1148\n1149\n1150\n1151\n1152\n1153\n1154\n"
     ]
    },
    {
     "name": "stdout",
     "output_type": "stream",
     "text": [
      "1155\n1156\n1157\n1158\n1159\n1160\n"
     ]
    },
    {
     "name": "stdout",
     "output_type": "stream",
     "text": [
      "1161\n1162\n1163\n1164\n1165\n1166\n1167\n1168\n"
     ]
    },
    {
     "name": "stdout",
     "output_type": "stream",
     "text": [
      "1169\n1170\n1171\n1172\n1173\n1174\n1175\n"
     ]
    },
    {
     "name": "stdout",
     "output_type": "stream",
     "text": [
      "1176\n1177\n1178\n1179\n1180\n1181\n1182\n"
     ]
    },
    {
     "name": "stdout",
     "output_type": "stream",
     "text": [
      "1183\n1184\n1185\n1186\n1187\n1188\n1189\n"
     ]
    },
    {
     "name": "stdout",
     "output_type": "stream",
     "text": [
      "1190\n1191\n1192\n1193\n1194\n1195\n1196\n1197\n1198\n"
     ]
    },
    {
     "name": "stdout",
     "output_type": "stream",
     "text": [
      "1200\n1201\n1202\n1203\n1204\n1205\n1206\n1207\n"
     ]
    },
    {
     "name": "stdout",
     "output_type": "stream",
     "text": [
      "1208\n1209\n1210\n1211\n1212\n1213\n1214\n1215\n1216\n"
     ]
    },
    {
     "name": "stdout",
     "output_type": "stream",
     "text": [
      "1217\n1218\n1219\n1220\n1221\n1222\n1223\n"
     ]
    },
    {
     "name": "stdout",
     "output_type": "stream",
     "text": [
      "1224\n1225\n1226\n1227\n1229\n1230\n1231\n1232\n1233\n"
     ]
    },
    {
     "name": "stdout",
     "output_type": "stream",
     "text": [
      "1234\n1235\n1236\n1237\n1238\n1239\n1240\n1241\n"
     ]
    },
    {
     "name": "stdout",
     "output_type": "stream",
     "text": [
      "1242\n1243\n1244\n1245\n1246\n1248\n1249\n1250\n"
     ]
    },
    {
     "name": "stdout",
     "output_type": "stream",
     "text": [
      "1251\n1252\n1253\n1254\n1255\n1256\n1258\n1259\n"
     ]
    },
    {
     "name": "stdout",
     "output_type": "stream",
     "text": [
      "1260\n1261\n1262\n1263\n1264\n1265\n1266\n1267\n"
     ]
    },
    {
     "name": "stdout",
     "output_type": "stream",
     "text": [
      "1269\n1270\n1271\n1272\n1273\n1274\n1275\n1276\n"
     ]
    },
    {
     "name": "stdout",
     "output_type": "stream",
     "text": [
      "1277\n1278\n1279\n1280\n1281\n1282\n1283\n"
     ]
    },
    {
     "name": "stdout",
     "output_type": "stream",
     "text": [
      "1284\n1285\n1286\n1287\n1288\n1289\n1291\n1292\n1293\n"
     ]
    },
    {
     "name": "stdout",
     "output_type": "stream",
     "text": [
      "1294\n1295\n1296\n1297\n1298\n1299\n1300\n1301\n"
     ]
    },
    {
     "name": "stdout",
     "output_type": "stream",
     "text": [
      "1302\n1303\n1304\n1305\n1306\n1307\n1308\n1309\n1310\n"
     ]
    },
    {
     "name": "stdout",
     "output_type": "stream",
     "text": [
      "1311\n1312\n1313\n1314\n1315\n1316\n1317\n1318\n"
     ]
    },
    {
     "name": "stdout",
     "output_type": "stream",
     "text": [
      "1319\n1320\n1321\n1322\n1323\n1324\n1325\n1326\n1327\n1328\n"
     ]
    },
    {
     "name": "stdout",
     "output_type": "stream",
     "text": [
      "1329\n1330\n1331\n1332\n1333\n1334\n1335\n"
     ]
    },
    {
     "name": "stdout",
     "output_type": "stream",
     "text": [
      "1336\n1337\n1338\n1339\n1340\n1341\n1342\n1343\n1344\n"
     ]
    },
    {
     "name": "stdout",
     "output_type": "stream",
     "text": [
      "1346\n1347\n1348\n1349\n1350\n1351\n1352\n1353\n"
     ]
    },
    {
     "name": "stdout",
     "output_type": "stream",
     "text": [
      "1354\n1355\n1356\n1357\n1358\n1359\n1360\n1361\n"
     ]
    },
    {
     "name": "stdout",
     "output_type": "stream",
     "text": [
      "1362\n1363\n1364\n1365\n1366\n1367\n1368\n1369\n"
     ]
    },
    {
     "name": "stdout",
     "output_type": "stream",
     "text": [
      "1370\n1371\n1372\n1373\n1374\n1375\n1376\n"
     ]
    },
    {
     "name": "stdout",
     "output_type": "stream",
     "text": [
      "1377\n1378\n1379\n1380\n1381\n1382\n1383\n1384\n"
     ]
    },
    {
     "name": "stdout",
     "output_type": "stream",
     "text": [
      "1385\n1386\n1387\n1388\n1389\n1390\n1391\n1392\n1393\n"
     ]
    },
    {
     "name": "stdout",
     "output_type": "stream",
     "text": [
      "1394\n1395\n1396\n1397\n1398\n1399\n1400\n"
     ]
    },
    {
     "name": "stdout",
     "output_type": "stream",
     "text": [
      "1401\n1402\n1404\n1405\n1406\n1407\n1408\n1409\n"
     ]
    },
    {
     "name": "stdout",
     "output_type": "stream",
     "text": [
      "1410\n1411\n1412\n1413\n1414\n1415\n1416\n"
     ]
    },
    {
     "name": "stdout",
     "output_type": "stream",
     "text": [
      "1417\n1418\n1419\n1420\n1421\n1422\n1423\n"
     ]
    },
    {
     "name": "stdout",
     "output_type": "stream",
     "text": [
      "1424\n1425\n1426\n1427\n1428\n1429\n1430\n1431\n"
     ]
    },
    {
     "name": "stdout",
     "output_type": "stream",
     "text": [
      "1432\n1433\n1434\n1435\n1436\n1437\n1438\n"
     ]
    },
    {
     "name": "stdout",
     "output_type": "stream",
     "text": [
      "1439\n1440\n1441\n1442\n1443\n1444\n1445\n"
     ]
    },
    {
     "name": "stdout",
     "output_type": "stream",
     "text": [
      "1446\n1447\n1448\n1449\n1450\n1451\n1452\n1453\n"
     ]
    },
    {
     "name": "stdout",
     "output_type": "stream",
     "text": [
      "1454\n1455\n1456\n1457\n1458\n1459\n1460\n"
     ]
    },
    {
     "name": "stdout",
     "output_type": "stream",
     "text": [
      "1461\n1462\n1463\n1464\n1465\n1466\n1467\n1468\n1469\n"
     ]
    },
    {
     "name": "stdout",
     "output_type": "stream",
     "text": [
      "1470\n1471\n1472\n1473\n1474\n1475\n1476\n1477\n1478\n"
     ]
    },
    {
     "name": "stdout",
     "output_type": "stream",
     "text": [
      "1479\n1480\n1481\n1482\n1483\n1484\n1485\n1486\n"
     ]
    },
    {
     "name": "stdout",
     "output_type": "stream",
     "text": [
      "1487\n1488\n1489\n1490\n1491\n1492\n1493\n"
     ]
    },
    {
     "name": "stdout",
     "output_type": "stream",
     "text": [
      "1494\n1495\n1496\n1497\n1498\n1499\n1500\n1501\n1502\n"
     ]
    },
    {
     "name": "stdout",
     "output_type": "stream",
     "text": [
      "1503\n1504\n1505\n1506\n1507\n1508\n"
     ]
    },
    {
     "data": {
      "text/plain": [
       "'\\nwhat I want to do here is create 5 layers:\\n    1. Cleaned layer band_1\\n    2. Cleaned layer band_2\\n    3. Enhanced using band_1 + band_2\\n    4. layer using the angle\\n    5. to be tested - img from 4 zoomed, sharpened \\n'"
      ]
     },
     "execution_count": 11,
     "metadata": {},
     "output_type": "execute_result"
    }
   ],
   "source": [
    "# input image dimensions\n",
    "img_rows, img_cols, layers = 75, 75, 1\n",
    "\n",
    "\n",
    "# Creating more test cases\n",
    "print('creating more test cases')\n",
    "\n",
    "avg = 0\n",
    "enh_ly = []\n",
    "bnd1_ly = []\n",
    "bnd2_ly = []\n",
    "inc_ang_ly = []\n",
    "inc_ang = np.zeros((75, 75))\n",
    "X = []\n",
    "y = []\n",
    "for i in train.index:\n",
    "    print(i)\n",
    "\n",
    "    \"\"\"\"# cleaned layer band_1 HH (cHH)\n",
    "    bnd1 = clean_img(train.at[i, 'band_1'])\n",
    "    bnd1_ly.extend(rotndup_img(bnd1))\n",
    "\n",
    "    # cleaned layer band_2 HV (in the future will cleaned based on the zero of HH) - cHV\n",
    "    bnd2 = clean_img(train.at[i, 'band_2'])\n",
    "    bnd2_ly.extend((rotndup_img(bnd2)))\"\"\"\n",
    "\n",
    "    # cleaned layer band_1 HH (cHH)\n",
    "    bnd1 = deep_clean(train.at[i, 'band_1'])\n",
    "    bnd2 = np.array(train.at[i, 'band_2']).reshape(75, 75)\n",
    "    bnd2[bnd1 == 0] = 0\n",
    "    bnd1_ly.extend(rotndup_img(bnd1))\n",
    "\n",
    "    # cleaned layer band_2 HV (in the future will cleaned based on the zero of HH) - cHV\n",
    "    bnd2_ly.extend((rotndup_img(bnd2)))\n",
    "\n",
    "\n",
    "    # Enhanced layer of cHH + cHV\n",
    "    enh_img = bnd1 + bnd2\n",
    "    avg = avg + np.mean(enh_img, axis = (0, 1))\n",
    "    enh_ly.extend(rotndup_img(enh_img))\n",
    "\n",
    "    # layer containing the angle\n",
    "    inc_ang[bnd1 != 0] = train.at[i, 'inc_angle']\n",
    "    inc_ang[bnd1 == 0] = 0\n",
    "    inc_ang_ly.extend([inc_ang, inc_ang, inc_ang, inc_ang])\n",
    "\n",
    "    # matching the target data\n",
    "    ice = train.loc[i, 'is_iceberg']\n",
    "\n",
    "    \"\"\"\n",
    "    # All 4 layers bnd1, bnd2, enh and angle\n",
    "    X.append(np.dstack((bnd1_ly[0], bnd2_ly[0], enh_ly[0], inc_ang_ly[0])))\n",
    "    X.append(np.dstack((bnd1_ly[1], bnd2_ly[1], enh_ly[1], inc_ang_ly[1])))\n",
    "    X.append(np.dstack((bnd1_ly[2], bnd2_ly[2], enh_ly[2], inc_ang_ly[2])))\n",
    "    X.append(np.dstack((bnd1_ly[3], bnd2_ly[3], enh_ly[3], inc_ang_ly[3])))\n",
    "\n",
    "    y.extend([ice, ice, ice, ice])\n",
    "    \"\"\"\n",
    "\n",
    "    \"\"\"\n",
    "    # layer NOT containing the angle and the enh_ly\n",
    "    X.append(np.dstack((bnd1_ly[0], bnd2_ly[0])))\n",
    "    X.append(np.dstack((bnd1_ly[1], bnd2_ly[1])))\n",
    "    X.append(np.dstack((bnd1_ly[2], bnd2_ly[2])))\n",
    "    X.append(np.dstack((bnd1_ly[3], bnd2_ly[3])))\n",
    "    \n",
    "    y.extend([ice, ice, ice, ice])\n",
    "    \"\"\"\n",
    "\n",
    "    \"\"\"\n",
    "    # layer bnd1, bnd2, angle\n",
    "    X.append(np.dstack((bnd1_ly[0], bnd2_ly[0], inc_ang_ly[0])))\n",
    "    X.append(np.dstack((bnd1_ly[1], bnd2_ly[1], inc_ang_ly[1])))\n",
    "    X.append(np.dstack((bnd1_ly[2], bnd2_ly[2], inc_ang_ly[2])))\n",
    "    X.append(np.dstack((bnd1_ly[3], bnd2_ly[3], inc_ang_ly[3])))\n",
    "\n",
    "    y.extend([ice, ice, ice, ice])\n",
    "    \"\"\"\n",
    "    \"\"\"\n",
    "    # layer containing ONLY enh + angle with no duplication of the data\n",
    "    X.append(np.dstack((enh_img, inc_ang)))\n",
    "\n",
    "    y.extend([ice])\n",
    "    \"\"\"\n",
    "\n",
    "    # layer containing ONLY enh with NO duplication of the data\n",
    "    X.append(np.dstack(enh_img))\n",
    "    \n",
    "    y.extend([ice])\n",
    "\n",
    "    \"\"\"\n",
    "    # layer containing ONLY enh with duplication of the data\n",
    "    X.append(np.dstack(enh_ly[0]))\n",
    "    X.append(np.dstack(enh_ly[1]))\n",
    "    X.append(np.dstack(enh_ly[2]))\n",
    "    X.append(np.dstack(enh_ly[3]))\n",
    "\n",
    "    y.extend([ice, ice, ice, ice])\n",
    "    \"\"\"\n",
    "\"\"\"\n",
    "what I want to do here is create 5 layers:\n",
    "    1. Cleaned layer band_1\n",
    "    2. Cleaned layer band_2\n",
    "    3. Enhanced using band_1 + band_2\n",
    "    4. layer using the angle\n",
    "    5. to be tested - img from 4 zoomed, sharpened \n",
    "\"\"\""
   ]
  },
  {
   "cell_type": "code",
   "execution_count": null,
   "metadata": {},
   "outputs": [],
   "source": [
    "\n",
    "X = np.array(X)\n",
    "avg = avg/len(X)\n",
    "X = X - avg\n",
    "random.shuffle(X)\n",
    "y = np.array(y)\n",
    "\n",
    "# split train and validate data\n",
    "x_train, x_test, y_train, y_test = train_test_split(X, y, test_size=0.25, random_state=42)\n",
    "\n",
    "# configuring the input_shape and the x, y to the tensor flow structure\n",
    "if K.image_data_format() == 'channels_first':\n",
    "    x_train = x_train.reshape(x_train.shape[0], layers, img_rows, img_cols)\n",
    "    x_test = x_test.reshape(x_test.shape[0], layers, img_rows, img_cols)\n",
    "    input_shape = (layers, img_rows, img_cols)\n",
    "else:\n",
    "    x_train = x_train.reshape(x_train.shape[0], img_rows, img_cols, layers)\n",
    "    x_test = x_test.reshape(x_test.shape[0], img_rows, img_cols, layers)\n",
    "    input_shape = (img_rows, img_cols, layers)\n",
    "\n",
    "\n",
    "# change train to float32 for better performance\n",
    "x_train = x_train.astype('float32')\n",
    "x_test = x_test.astype('float32')\n",
    "\n",
    "print('x_train shape:', x_train.shape)\n",
    "print(x_train.shape[0], 'train samples')\n",
    "print(x_test.shape[0], 'test samples')\n",
    "\n",
    "# Setup model parameters\n",
    "batch_size = 100\n",
    "epochs = 50\n",
    "earlyStopping = EarlyStopping(monitor='val_loss', patience=10, verbose=0, mode='min')\n",
    "mcp_save = ModelCheckpoint('.mdl_wts.hdf5', save_best_only=True, monitor='val_loss', mode='min')\n",
    "reduce_lr_loss = ReduceLROnPlateau(monitor='val_loss', factor=0.1, patience=7, verbose=1, epsilon=1e-4, mode='min')\n",
    "\n",
    "model = getModel()\n",
    "model.summary()\n",
    "\n",
    "\n",
    "model.fit(x_train, y_train,\n",
    "          batch_size=batch_size,\n",
    "          epochs=epochs,\n",
    "          verbose=1,\n",
    "          callbacks=[earlyStopping, mcp_save, reduce_lr_loss],\n",
    "          validation_data=(x_test, y_test))\n",
    "\n",
    "model.load_weights(filepath = '.mdl_wts.hdf5')\n",
    "\n",
    "score = model.evaluate(x_test, y_test, verbose=1)\n",
    "print('Test loss:', score[0])\n",
    "print('Test accuracy:', score[1])\n",
    "\n"
   ]
  }
 ],
 "metadata": {
  "kernelspec": {
   "display_name": "Python 2",
   "language": "python",
   "name": "python2"
  },
  "language_info": {
   "codemirror_mode": {
    "name": "ipython",
    "version": 2
   },
   "file_extension": ".py",
   "mimetype": "text/x-python",
   "name": "python",
   "nbconvert_exporter": "python",
   "pygments_lexer": "ipython2",
   "version": "2.7.6"
  }
 },
 "nbformat": 4,
 "nbformat_minor": 0
}
